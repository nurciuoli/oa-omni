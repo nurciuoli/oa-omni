{
 "cells": [
  {
   "cell_type": "code",
   "execution_count": 2,
   "metadata": {},
   "outputs": [
    {
     "name": "stdout",
     "output_type": "stream",
     "text": [
      "Checkpoint: assistant initialized\n",
      "user: hi\n",
      "assistant: Hello! How can I assist you today?\n"
     ]
    }
   ],
   "source": [
    "from myGpt import Agent\n",
    "\n",
    "ag = Agent()\n",
    "\n",
    "ag.chat('hi',stream=False)"
   ]
  },
  {
   "cell_type": "code",
   "execution_count": 1,
   "metadata": {},
   "outputs": [
    {
     "name": "stdout",
     "output_type": "stream",
     "text": [
      "Checkpoint: assistant initialized\n",
      "\n",
      "assistant > Hello! How can I assist you today?"
     ]
    }
   ],
   "source": [
    "from myGpt import Agent\n",
    "\n",
    "ag = Agent()\n",
    "\n",
    "ag.chat('hi',stream=True)"
   ]
  }
 ],
 "metadata": {
  "kernelspec": {
   "display_name": "agi",
   "language": "python",
   "name": "python3"
  },
  "language_info": {
   "codemirror_mode": {
    "name": "ipython",
    "version": 3
   },
   "file_extension": ".py",
   "mimetype": "text/x-python",
   "name": "python",
   "nbconvert_exporter": "python",
   "pygments_lexer": "ipython3",
   "version": "3.11.8"
  }
 },
 "nbformat": 4,
 "nbformat_minor": 2
}
