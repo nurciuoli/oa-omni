{
 "cells": [
  {
   "cell_type": "code",
   "execution_count": 3,
   "metadata": {},
   "outputs": [
    {
     "name": "stdout",
     "output_type": "stream",
     "text": [
      "Checkpoint: assistant initialized\n",
      "user: hi\n",
      "assistant: Hello! How can I help you today?\n"
     ]
    }
   ],
   "source": [
    "from myGpt import Agent\n",
    "\n",
    "ag = Agent()\n",
    "\n",
    "ag.chat('hi',stream=False)"
   ]
  },
  {
   "cell_type": "code",
   "execution_count": 4,
   "metadata": {},
   "outputs": [
    {
     "name": "stdout",
     "output_type": "stream",
     "text": [
      "Checkpoint: assistant initialized\n",
      "\n",
      "assistant > Hello! How can I assist you today?"
     ]
    }
   ],
   "source": [
    "from myGpt import Agent\n",
    "\n",
    "ag = Agent()\n",
    "\n",
    "ag.chat('hi',stream=True)"
   ]
  },
  {
   "cell_type": "code",
   "execution_count": 2,
   "metadata": {},
   "outputs": [
    {
     "name": "stdout",
     "output_type": "stream",
     "text": [
      "Checkpoint: assistant initialized\n",
      "user: what is in this image\n",
      "assistant: The image is a screenshot of various puppy pictures from a Bing image search with the query \"Images of Puppy.\" It shows four different images:\n",
      "\n",
      "1. A Labrador puppy sitting on grass.\n",
      "2. A cute Labrador puppy lying down, looking at the camera.\n",
      "3. A Golden Retriever puppy standing on the grass.\n",
      "4. Another picture of a golden-hued puppy standing on grass.\n",
      "\n",
      "Each of these images depicts a different puppy, highlighting their adorable and cute nature.\n"
     ]
    }
   ],
   "source": [
    "from myGpt import Agent\n",
    "image_path = \"testpic.png\"\n",
    "\n",
    "ag = Agent()\n",
    "\n",
    "ag.chat('what is in this image',images = [image_path],stream=False)"
   ]
  }
 ],
 "metadata": {
  "kernelspec": {
   "display_name": "agi",
   "language": "python",
   "name": "python3"
  },
  "language_info": {
   "codemirror_mode": {
    "name": "ipython",
    "version": 3
   },
   "file_extension": ".py",
   "mimetype": "text/x-python",
   "name": "python",
   "nbconvert_exporter": "python",
   "pygments_lexer": "ipython3",
   "version": "3.11.8"
  }
 },
 "nbformat": 4,
 "nbformat_minor": 2
}
