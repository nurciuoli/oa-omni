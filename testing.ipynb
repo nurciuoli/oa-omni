{
 "cells": [
  {
   "cell_type": "code",
   "execution_count": 1,
   "metadata": {},
   "outputs": [
    {
     "name": "stdout",
     "output_type": "stream",
     "text": [
      "The image shows a collection of pictures of puppies. Specifically, there appear to be:\n",
      "\n",
      "1. A Labrador puppy sitting in the grass.\n",
      "2. A Labrador puppy lying down, appearing to be resting or sleeping.\n",
      "3. A Golden Retriever puppy standing on the grass with a hose in the background.\n",
      "4. Another image of a puppy, likely a Labrador or Golden Retriever, but it's not fully clear from the visible part of the image.\n",
      "\n",
      "Each image has a label or caption beneath it providing a brief description, mostly mentioning the breed (Labrador or Golden Retriever) and featuring typical cute puppy poses.\n"
     ]
    }
   ],
   "source": [
    "from myOA import Agent,encode_image\n",
    "agent = Agent()\n",
    "# Path to your image\n",
    "image_path = \"testpic.png\"\n",
    "\n",
    "# Getting the base64 string\n",
    "base64_image = encode_image(image_path)\n",
    "agent.chat('what is in this image?',\n",
    "           [base64_image])"
   ]
  }
 ],
 "metadata": {
  "kernelspec": {
   "display_name": "agi",
   "language": "python",
   "name": "python3"
  },
  "language_info": {
   "codemirror_mode": {
    "name": "ipython",
    "version": 3
   },
   "file_extension": ".py",
   "mimetype": "text/x-python",
   "name": "python",
   "nbconvert_exporter": "python",
   "pygments_lexer": "ipython3",
   "version": "3.11.8"
  }
 },
 "nbformat": 4,
 "nbformat_minor": 2
}
